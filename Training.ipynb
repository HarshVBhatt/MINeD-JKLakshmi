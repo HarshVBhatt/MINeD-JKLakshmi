{
  "cells": [
    {
      "cell_type": "code",
      "execution_count": 1,
      "metadata": {
        "id": "T_KReUhaRPL6"
      },
      "outputs": [],
      "source": [
        "# Importing mandatory libraries\n",
        "from tensorflow.keras.layers import Conv2D,MaxPooling2D,UpSampling2D,Dropout,Concatenate,Input,BatchNormalization\n",
        "import tensorflow as tf\n",
        "import tensorflow.keras as k\n",
        "import h5py as hd\n",
        "import numpy as np\n",
        "import matplotlib.pyplot as plt\n",
        "from keras.regularizers import l2\n",
        "from tensorflow.keras.models import *\n",
        "from tensorflow.keras.layers import *\n",
        "from tensorflow.keras.optimizers import *\n",
        "from tensorflow.keras.callbacks import ModelCheckpoint, LearningRateScheduler\n",
        "from tensorflow.keras import backend as keras\n",
        "import os\n",
        "import cv2"
      ]
    },
    {
      "cell_type": "code",
      "execution_count": 2,
      "metadata": {
        "id": "lId1p3QqTPJT"
      },
      "outputs": [],
      "source": [
        "# Declaring paths for the training images\n",
        "annt = '/content/drive/MyDrive/MINeD/annt_img'\n",
        "ori = '/content/drive/MyDrive/MINeD/images/itba'"
      ]
    },
    {
      "cell_type": "code",
      "execution_count": 3,
      "metadata": {
        "colab": {
          "base_uri": "https://localhost:8080/"
        },
        "id": "zbnwEipesbDV",
        "outputId": "329b1bae-c532-4dfb-aaeb-e421a6711883"
      },
      "outputs": [
        {
          "output_type": "stream",
          "name": "stdout",
          "text": [
            "Mounted at /content/drive\n"
          ]
        }
      ],
      "source": [
        "# Mounting the google drive\n",
        "from google.colab import drive\n",
        "drive.mount('/content/drive')"
      ]
    },
    {
      "cell_type": "code",
      "execution_count": 4,
      "metadata": {
        "id": "AOp33NMvSIhK"
      },
      "outputs": [],
      "source": [
        "# Listing contents of the directories\n",
        "annt_imgs = os.listdir(annt)\n",
        "ori_imgs = os.listdir(ori)"
      ]
    },
    {
      "cell_type": "code",
      "execution_count": 5,
      "metadata": {
        "id": "Ou0KXvu8Tmpy"
      },
      "outputs": [],
      "source": [
        "# Storing the annotated images in a dictionary\n",
        "di = {}\n",
        "for i in annt_imgs:\n",
        "  ind = i[:i.index('.')]\n",
        "  di[ind] = [i] "
      ]
    },
    {
      "cell_type": "code",
      "execution_count": 6,
      "metadata": {
        "id": "IlqkmqiZUgS1"
      },
      "outputs": [],
      "source": [
        "# Pairing annotated images with their original images\n",
        "for i in ori_imgs:\n",
        "  ind = i[:i.index('.')]\n",
        "  di[ind].append(i) "
      ]
    },
    {
      "cell_type": "code",
      "execution_count": 7,
      "metadata": {
        "id": "LhaZMBhpUycX"
      },
      "outputs": [],
      "source": [
        "# Pre-processing the data\n",
        "ori_arr_0 = []\n",
        "annt_arr_0 = []\n",
        "for i in di:\n",
        "  \n",
        "  ori_im = cv2.imread(os.path.join(ori,di[i][1]))\n",
        "  ori_im = cv2.cvtColor(ori_im,cv2.COLOR_BGR2RGB)\n",
        "\n",
        "  im0 = cv2.resize(ori_im,(640,192))\n",
        "  ori_arr_0.append(im0)\n",
        "\n",
        "  annt_im = cv2.imread(os.path.join(annt,di[i][0]),cv2.IMREAD_GRAYSCALE)\n",
        "  im0 = cv2.resize(annt_im,(640,192))\n",
        "  annt_arr_0.append(im0)\n",
        "  "
      ]
    },
    {
      "cell_type": "code",
      "execution_count": 8,
      "metadata": {
        "id": "0n2Q3xQaWztC"
      },
      "outputs": [],
      "source": [
        "# Contrasting images for display\n",
        "img = annt_arr_0[1]\n",
        "cls0 = np.where(img==0)\n",
        "cls1 = np.where(img==1)\n",
        "cls2 = np.where(img==2)\n",
        "new = np.zeros((img.shape[0],img.shape[1]))\n",
        "new[cls1[0],cls1[1]] = 255"
      ]
    },
    {
      "cell_type": "code",
      "execution_count": 9,
      "metadata": {
        "colab": {
          "base_uri": "https://localhost:8080/",
          "height": 170
        },
        "id": "-dGuidHTW9Yp",
        "outputId": "b60fa643-ba25-4784-c918-e57effc11930"
      },
      "outputs": [
        {
          "output_type": "execute_result",
          "data": {
            "text/plain": [
              "<matplotlib.image.AxesImage at 0x7fa5c27a1690>"
            ]
          },
          "metadata": {},
          "execution_count": 9
        },
        {
          "output_type": "display_data",
          "data": {
            "image/png": "[encoded data removed]",
            "text/plain": [
              "<Figure size 432x288 with 1 Axes>"
            ]
          },
          "metadata": {
            "needs_background": "light"
          }
        }
      ],
      "source": [
        "# Displaying the image\n",
        "plt.imshow(new,cmap='gray')"
      ]
    },
    {
      "cell_type": "code",
      "execution_count": 10,
      "metadata": {
        "id": "7rN66sJuXiDs"
      },
      "outputs": [],
      "source": [
        "# Declaring the source path\n",
        "src = '/content/drive/MyDrive/MINeD'"
      ]
    },
    {
      "cell_type": "code",
      "execution_count": 11,
      "metadata": {
        "id": "ghFHpuJuYBKP"
      },
      "outputs": [],
      "source": [
        "# Converting images to numpy array\n",
        "ori_arr_0_nd = np.array(ori_arr_0) \n",
        "annt_arr_0_nd = np.array(annt_arr_0)"
      ]
    },
    {
      "cell_type": "code",
      "execution_count": 12,
      "metadata": {
        "id": "EMShFAhzSJS7"
      },
      "outputs": [],
      "source": [
        "# Creating the dataset\n",
        "try:\n",
        "    hf = hd.File(os.path.join(src,'train_0.h5'),'w')\n",
        "    hf.create_dataset('ori',data=np.array(ori_arr_0_nd))\n",
        "    hf.create_dataset('annt',data=np.array(annt_arr_0_nd))\n",
        "finally:\n",
        "    hf.close()"
      ]
    },
    {
      "cell_type": "code",
      "execution_count": 13,
      "metadata": {
        "id": "zhyjWSIZSJ0-"
      },
      "outputs": [],
      "source": [
        "# Loading the dataset\n",
        "try:\n",
        "    hf = hd.File(os.path.join(src,'train_0.h5'),'r')\n",
        "    img_ori_0 = np.array(hf.get('ori'))\n",
        "    img_annt_0 = np.array(hf.get('annt'))\n",
        "finally:\n",
        "    hf.close()"
      ]
    },
    {
      "cell_type": "code",
      "execution_count": 14,
      "metadata": {
        "id": "Rn9t7kFlapuy"
      },
      "outputs": [],
      "source": [
        "# One-hot encoding the images\n",
        "img_annt_0 = tf.keras.utils.to_categorical(img_annt_0)"
      ]
    },
    {
      "cell_type": "code",
      "execution_count": 17,
      "metadata": {
        "id": "5EderIwqcM35"
      },
      "outputs": [],
      "source": [
        "# SegNet Model architecture\n",
        "def segnet(pretrained_weights = None,input_size = (192,640,3),classes=3):\n",
        "    inputs = Input(input_size)\n",
        "    #step1\n",
        "    conv1 = Conv2D(64, 3, activation = 'relu', padding = 'same', kernel_initializer = 'he_normal')(inputs)\n",
        "    conv1=BatchNormalization()(conv1)\n",
        "    conv1 = Conv2D(64, 3, activation = 'relu', padding = 'same', kernel_initializer = 'he_normal')(conv1)\n",
        "    conv1=BatchNormalization()(conv1)\n",
        "    pool1 = MaxPooling2D(pool_size=(2, 2))(conv1)\n",
        "    \n",
        "    #step2\n",
        "    conv2 = Conv2D(128, 3, activation = 'relu', padding = 'same', kernel_initializer = 'he_normal')(pool1)\n",
        "    conv2=BatchNormalization()(conv2)\n",
        "    conv2 = Conv2D(128, 3, activation = 'relu', padding = 'same', kernel_initializer = 'he_normal')(conv2)\n",
        "    conv2=BatchNormalization()(conv2)\n",
        "    pool2 = MaxPooling2D(pool_size=(2, 2))(conv2)\n",
        "    \n",
        "    #step3\n",
        "    conv3 = Conv2D(256, 3, activation = 'relu', padding = 'same', kernel_initializer = 'he_normal')(pool2)\n",
        "    conv3=BatchNormalization()(conv3)\n",
        "    conv3 = Conv2D(256, 3, activation = 'relu', padding = 'same', kernel_initializer = 'he_normal')(conv3)\n",
        "    conv3=BatchNormalization()(conv3)\n",
        "    conv3 = Conv2D(256, 3, activation = 'relu', padding = 'same', kernel_initializer = 'he_normal')(conv3)\n",
        "    conv3=BatchNormalization()(conv3)\n",
        "    pool3 = MaxPooling2D(pool_size=(2, 2))(conv3)\n",
        "    \n",
        "    #step4\n",
        "    conv4 = Conv2D(512, 3, activation = 'relu', padding = 'same', kernel_initializer = 'he_normal')(pool3)\n",
        "    conv4=BatchNormalization()(conv4)\n",
        "    conv4 = Conv2D(512, 3, activation = 'relu', padding = 'same', kernel_initializer = 'he_normal')(pool3)\n",
        "    conv4=BatchNormalization()(conv4)\n",
        "    conv4 = Conv2D(512, 3, activation = 'relu', padding = 'same', kernel_initializer = 'he_normal')(conv4)\n",
        "    conv4=BatchNormalization()(conv4)\n",
        "    pool4 = MaxPooling2D(pool_size=(2, 2))(conv4)\n",
        "\n",
        "    #step5\n",
        "    conv5 = Conv2D(1024, 3, activation = 'relu', padding = 'same', kernel_initializer = 'he_normal')(pool4)\n",
        "    conv5=BatchNormalization()(conv5)\n",
        "    conv5 = Conv2D(1024, 3, activation = 'relu', padding = 'same', kernel_initializer = 'he_normal')(conv5)\n",
        "    conv5=BatchNormalization()(conv5)\n",
        "    conv5=BatchNormalization()(conv5)\n",
        "    conv5 = Conv2D(1024, 3, activation = 'relu', padding = 'same', kernel_initializer = 'he_normal')(conv5)\n",
        "    conv5=BatchNormalization()(conv5)\n",
        "    pool5 = MaxPooling2D(pool_size=(2, 2))(conv5)\n",
        "\n",
        "    #step6\n",
        "    up6 = Conv2D(1024, 2, activation = 'relu', padding = 'same', kernel_initializer = 'he_normal')(UpSampling2D(size = (2,2))(pool5))\n",
        "    merge6 = concatenate([conv5,up6], axis = 3)\n",
        "    conv6 = Conv2D(1024, 3, activation = 'relu', padding = 'same', kernel_initializer = 'he_normal')(merge6)\n",
        "    conv6=BatchNormalization()(conv6)\n",
        "    conv6 = Conv2D(1024, 3, activation = 'relu', padding = 'same', kernel_initializer = 'he_normal')(conv6)\n",
        "    conv6=BatchNormalization()(conv6)\n",
        "    \n",
        "    #step7\n",
        "    up7 = Conv2D(512, 2, activation = 'relu', padding = 'same', kernel_initializer = 'he_normal')(UpSampling2D(size = (2,2))(conv6))\n",
        "    merge7 = concatenate([conv4,up7], axis = 3)\n",
        "    conv7 = Conv2D(512, 3, activation = 'relu', padding = 'same', kernel_initializer = 'he_normal')(merge7)\n",
        "    conv7=BatchNormalization()(conv7)\n",
        "    conv7 = Conv2D(512, 3, activation = 'relu', padding = 'same', kernel_initializer = 'he_normal')(conv7)\n",
        "    conv7=BatchNormalization()(conv7)\n",
        "    \n",
        "    #step8\n",
        "    up8 = Conv2D(256, 2, activation = 'relu', padding = 'same', kernel_initializer = 'he_normal')(UpSampling2D(size = (2,2))(conv7))\n",
        "    merge8 = concatenate([conv3,up8], axis = 3)\n",
        "    conv8 = Conv2D(256, 3, activation = 'relu', padding = 'same', kernel_initializer = 'he_normal')(merge8)\n",
        "    conv8=BatchNormalization()(conv8)\n",
        "    conv8 = Conv2D(256, 3, activation = 'relu', padding = 'same', kernel_initializer = 'he_normal')(conv8)\n",
        "    conv8=BatchNormalization()(conv8)\n",
        "\n",
        "    #step9\n",
        "    up9 = Conv2D(128, 2, activation = 'relu', padding = 'same', kernel_initializer = 'he_normal')(UpSampling2D(size = (2,2))(conv8))\n",
        "    merge9 = concatenate([conv2,up9], axis = 3)\n",
        "    conv9 = Conv2D(128, 3, activation = 'relu', padding = 'same', kernel_initializer = 'he_normal')(merge9)\n",
        "    conv9=BatchNormalization()(conv9)\n",
        "    conv9 = Conv2D(128, 3, activation = 'relu', padding = 'same', kernel_initializer = 'he_normal')(conv9)\n",
        "    conv9=BatchNormalization()(conv9)\n",
        "    \n",
        "    #step10   \n",
        "    up10 = Conv2D(64,3,activation='relu',padding='same',kernel_initializer = 'he_normal')(UpSampling2D(size=(2,2))(conv9))\n",
        "    merge10 = concatenate([conv1,up10],axis=3)\n",
        "    conv10 = Conv2D(64, 3, activation = 'relu', padding = 'same', kernel_initializer = 'he_normal')(merge10)\n",
        "    conv10=BatchNormalization()(conv10)\n",
        "    conv10 = Conv2D(classes, 1, activation = 'softmax')(conv10)\n",
        "\n",
        "    model = Model(inputs,conv10)\n",
        "    opt = Adam(learning_rate=0.0001)\n",
        "    model.compile(optimizer=opt,\n",
        "             loss=\"categorical_crossentropy\",\n",
        "             metrics=[\"accuracy\"])    \n",
        "    if (pretrained_weights):\n",
        "        model.load_weights(pretrained_weights)\n",
        "\n",
        "    return model"
      ]
    },
    {
      "cell_type": "code",
      "execution_count": 18,
      "metadata": {
        "id": "7JxPsXcAkulp"
      },
      "outputs": [],
      "source": [
        "tf.keras.backend.clear_session()"
      ]
    },
    {
      "cell_type": "code",
      "source": [
        "# Creating instance of SegNet Model\n",
        "model = segnet()"
      ],
      "metadata": {
        "id": "7lIXepMwmAtn"
      },
      "execution_count": 19,
      "outputs": []
    },
    {
      "cell_type": "code",
      "execution_count": null,
      "metadata": {
        "id": "2CMPxfyicNib"
      },
      "outputs": [],
      "source": [
        "# Training the model\n",
        "model.fit(x=img_ori_0/255.0,y=img_annt_0,batch_size=3,epochs=20,validation_split=0.2)"
      ]
    },
    {
      "cell_type": "code",
      "execution_count": 31,
      "metadata": {
        "id": "9sLy0cQlcN6c"
      },
      "outputs": [],
      "source": [
        "# Predicting the output\n",
        "preds = model.predict(img_ori_0[0].reshape((-1,192,640,3))/255)"
      ]
    }
  ],
  "metadata": {
    "accelerator": "GPU",
    "colab": {
      "collapsed_sections": [],
      "name": "Training.ipynb",
      "provenance": []
    },
    "kernelspec": {
      "display_name": "Python 3",
      "language": "python",
      "name": "python3"
    },
    "language_info": {
      "codemirror_mode": {
        "name": "ipython",
        "version": 3
      },
      "file_extension": ".py",
      "mimetype": "text/x-python",
      "name": "python",
      "nbconvert_exporter": "python",
      "pygments_lexer": "ipython3",
      "version": "3.8.5"
    }
  },
  "nbformat": 4,
  "nbformat_minor": 0
}