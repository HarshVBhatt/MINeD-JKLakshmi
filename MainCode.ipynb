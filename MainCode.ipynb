{
 "cells": [
  {
   "cell_type": "code",
   "execution_count": 14,
   "metadata": {},
   "outputs": [],
   "source": [
    "import cv2\n",
    "import numpy as np\n",
    "import time\n",
    "import matplotlib.pyplot as plt\n",
    "import os\n",
    "import tensorflow as tf\n",
    "import pandas as pd"
   ]
  },
  {
   "cell_type": "code",
   "execution_count": 15,
   "metadata": {},
   "outputs": [],
   "source": [
    "def preProcess(frame):\n",
    "    frame = cv2.resize(frame,(640,192))\n",
    "    frame2 = cv2.cvtColor(frame,cv2.COLOR_BGR2RGB)\n",
    "    inp = np.expand_dims(frame2,0)/255\n",
    "    return inp"
   ]
  },
  {
   "cell_type": "code",
   "execution_count": 16,
   "metadata": {},
   "outputs": [],
   "source": [
    "COUNT = 192 * 640\n",
    "BAGTHRESH = 0.08\n",
    "NUMTHRESH = 0.01"
   ]
  },
  {
   "cell_type": "code",
   "execution_count": 17,
   "metadata": {},
   "outputs": [],
   "source": [
    "def bagCount(background,count=COUNT,backThreshold=0.95):\n",
    "    indsBg  = np.where(background>backThreshold)\n",
    "    countBag = count - len(indsBg[0])\n",
    "    return countBag,countBag/count,indsBg"
   ]
  },
  {
   "cell_type": "code",
   "execution_count": 18,
   "metadata": {},
   "outputs": [],
   "source": [
    "def numCount(nums,count,numThreshold=0.6):\n",
    "    indsNums = np.where(nums>numThreshold)\n",
    "    return len(indsNums[0]),len(indsNums[0])/count,indsNums"
   ]
  },
  {
   "cell_type": "code",
   "execution_count": 29,
   "metadata": {},
   "outputs": [],
   "source": [
    "segnetModel  = tf.keras.models.load_model('model/segnet.h5')"
   ]
  },
  {
   "cell_type": "code",
   "execution_count": 49,
   "metadata": {},
   "outputs": [],
   "source": [
    "def overLay(frame,bag,num,th1=1,th2=0.7,th3=0.8):\n",
    "    frame[:,:,0] = cv2.addWeighted(frame[:,:,0],th1,bag,th2,0)\n",
    "    frame[:,:,2] = cv2.addWeighted(frame[:,:,2],th1,num,th3,0)\n",
    "    return frame"
   ]
  },
  {
   "cell_type": "code",
   "execution_count": 56,
   "metadata": {},
   "outputs": [],
   "source": [
    "# path = 'vdos/IMG_0417.MOV'\n",
    "# path = 'vdos/IMG_0418.MOV'\n",
    "# path = 'vdos/IMG_0419.MOV'\n",
    "# path = 'vdos/IMG_0420.MOV'\n",
    "# path = 'vdos/IMG_0421.MOV'\n",
    "path = 'vdos/IMG_0422.MOV'\n",
    "# path = 'vdos/IMG_0425.MOV'\n",
    "# path = 'vdos/IMG_0426.MOV'\n",
    "# path = 'vdos/IMG_0427.MOV'\n",
    "# path = 'vdos/IMG_0444.MOV'"
   ]
  },
  {
   "cell_type": "code",
   "execution_count": 58,
   "metadata": {},
   "outputs": [
    {
     "name": "stdout",
     "output_type": "stream",
     "text": [
      "vdos/IMG_0422.MOV\n"
     ]
    }
   ],
   "source": [
    "print(path)\n",
    "maxBagIou = 0\n",
    "maxNumIou = 0\n",
    "numIou = 0\n",
    "num_median = []\n",
    "time_arr = []\n",
    "flag_arr = []\n",
    "flag = False\n",
    "i=0\n",
    "check = True\n",
    "try:\n",
    "    vdo=cv2.VideoCapture(path)\n",
    "    while vdo.isOpened():\n",
    "        start = time.time()\n",
    "        ret,frame=vdo.read()\n",
    "        if i%10==0:\n",
    "            i=0\n",
    "            if ret:\n",
    "                inp = preProcess(frame)\n",
    "                pred = segnetModel.predict(inp)\n",
    "                bagCnt,bagIou,_ = bagCount(pred[0,:,:,0])\n",
    "                flag = False\n",
    "                if bagIou >= BAGTHRESH:\n",
    "                    \n",
    "                    if bagIou >= maxBagIou:\n",
    "                        maxBagIou = bagIou\n",
    "                        \n",
    "                    elif bagIou<maxBagIou and check:\n",
    "                        numCnt, numIou,_ = numCount(pred[0,:,:,2], bagCnt)\n",
    "                        if numIou >= NUMTHRESH:\n",
    "                            flag_arr.append(1)\n",
    "                            \n",
    "                            flag = True\n",
    "                        else:\n",
    "                            flag_arr.append(0)\n",
    "                            \n",
    "                            flag = False\n",
    "                        check = False\n",
    "                else:\n",
    "                    maxBagIou = 0\n",
    "                    numIou = 0\n",
    "                    #flag = True\n",
    "                    check = True\n",
    "\n",
    "                annotated = cv2.putText(inp[0],f'{str(bagIou)[:4]} {str(numIou)[:4]} {flag}',(10,40)\n",
    "                                        ,cv2.FONT_HERSHEY_SIMPLEX,1,(0,255,0),2,cv2.LINE_AA)\n",
    "                overlayed = overLay(inp[0].astype('float32'),pred[0,:,:,1].astype('float32'),\n",
    "                                    pred[0,:,:,2].astype('float32'))\n",
    "                cv2.imshow('frame',overlayed)\n",
    "            else:\n",
    "                break\n",
    "        end = time.time()\n",
    "        time_arr.append(end-start)\n",
    "        i+=1\n",
    "        if cv2.waitKey(1) & 0xFF==ord('q'):\n",
    "            break\n",
    "finally:\n",
    "        cv2.destroyAllWindows()"
   ]
  },
  {
   "cell_type": "code",
   "execution_count": 33,
   "metadata": {},
   "outputs": [
    {
     "name": "stdout",
     "output_type": "stream",
     "text": [
      "Mean Time Per Prediction Per Frame 0.07285204136625249 seconds\n"
     ]
    }
   ],
   "source": [
    "print(f\"Mean Time Per Prediction Per Frame {np.mean(time_arr)} seconds\")"
   ]
  },
  {
   "cell_type": "code",
   "execution_count": 34,
   "metadata": {},
   "outputs": [],
   "source": [
    "flag_path = f'database/IMG_0421.csv'\n",
    "df = pd.DataFrame({'Flags':flag_arr})\n",
    "df.to_csv(f'{flag_path}')"
   ]
  },
  {
   "cell_type": "code",
   "execution_count": 39,
   "metadata": {},
   "outputs": [
    {
     "data": {
      "text/plain": [
       "[1, 1, 1, 1]"
      ]
     },
     "execution_count": 39,
     "metadata": {},
     "output_type": "execute_result"
    }
   ],
   "source": [
    "flag_arr"
   ]
  }
 ],
 "metadata": {
  "kernelspec": {
   "display_name": "Python 3 (ipykernel)",
   "language": "python",
   "name": "python3"
  },
  "language_info": {
   "codemirror_mode": {
    "name": "ipython",
    "version": 3
   },
   "file_extension": ".py",
   "mimetype": "text/x-python",
   "name": "python",
   "nbconvert_exporter": "python",
   "pygments_lexer": "ipython3",
   "version": "3.9.7"
  }
 },
 "nbformat": 4,
 "nbformat_minor": 4
}
